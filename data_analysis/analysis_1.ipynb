{
 "cells": [
  {
   "cell_type": "code",
   "execution_count": 111,
   "id": "67f3ef4c-ada1-44b0-9e76-35231b46cf4f",
   "metadata": {},
   "outputs": [
    {
     "data": {
      "text/plain": [
       "['ame_validation_result.txt']"
      ]
     },
     "execution_count": 111,
     "metadata": {},
     "output_type": "execute_result"
    }
   ],
   "source": [
    "import matplotlib.pyplot as plt\n",
    "import seaborn as sns\n",
    "import os\n",
    "import pandas as pd\n",
    "import numpy as np\n",
    "data_path = '../results/'\n",
    "result_txts = os.listdir(data_path)\n",
    "result_txts"
   ]
  },
  {
   "cell_type": "code",
   "execution_count": 112,
   "id": "1792adf3-c90e-40e3-b78f-6f280d05a98a",
   "metadata": {},
   "outputs": [],
   "source": [
    "def remove_new_lines(text):\n",
    "    return text.split()"
   ]
  },
  {
   "cell_type": "code",
   "execution_count": 113,
   "id": "35bb2515-fca7-4f4a-b6b3-76331cdece4f",
   "metadata": {},
   "outputs": [],
   "source": [
    "columns = ['language', 'seed', 'dim', 'max_step','warmup_steps', 'Tag_location',\n",
    "           'n_layer', 'batch', 'copy', 'lr', 'dropout', 'acc', 'f1', 'bleu', 'char_acc']\n",
    "\n",
    "numerics = ['seed', 'dim', 'max_step', 'warmup_steps', 'n_layer', 'batch', 'lr', 'dropout'\n",
    "           ,'acc', 'f1', 'bleu', 'char_acc']\n",
    "rows = []\n",
    "for file in result_txts:\n",
    "    with open(data_path+file) as f:\n",
    "        lines = f.readlines()\n",
    "    lines = list(chunks(lines, 16))\n",
    "    for to_split in range(len(lines)):\n",
    "        test = list(map(remove_new_lines,lines[to_split]))\n",
    "        row = []\n",
    "        for idx, datum in enumerate(test):\n",
    "            if idx == 14:\n",
    "                row.append(datum[2])\n",
    "            elif idx == 15:\n",
    "                pass\n",
    "            else:\n",
    "                row.append(datum[1])\n",
    "        rows.append(row)\n",
    "    "
   ]
  },
  {
   "cell_type": "code",
   "execution_count": 114,
   "id": "ef1789e8-9ff9-4035-921e-3864fdf9ac6e",
   "metadata": {},
   "outputs": [],
   "source": [
    "df = pd.DataFrame(rows, columns = columns)"
   ]
  },
  {
   "cell_type": "code",
   "execution_count": 115,
   "id": "80d62681-d125-4083-a04d-3691c8cf9723",
   "metadata": {},
   "outputs": [],
   "source": [
    "# convert numerics to numerics\n",
    "for numeric in numerics:\n",
    "    df[numeric] = df[numeric].astype(np.float16)"
   ]
  },
  {
   "cell_type": "code",
   "execution_count": 116,
   "id": "9ef2c885-1252-4796-82f8-70a14472f49f",
   "metadata": {},
   "outputs": [
    {
     "data": {
      "text/html": [
       "<div>\n",
       "<style scoped>\n",
       "    .dataframe tbody tr th:only-of-type {\n",
       "        vertical-align: middle;\n",
       "    }\n",
       "\n",
       "    .dataframe tbody tr th {\n",
       "        vertical-align: top;\n",
       "    }\n",
       "\n",
       "    .dataframe thead th {\n",
       "        text-align: right;\n",
       "    }\n",
       "</style>\n",
       "<table border=\"1\" class=\"dataframe\">\n",
       "  <thead>\n",
       "    <tr style=\"text-align: right;\">\n",
       "      <th></th>\n",
       "      <th>language</th>\n",
       "      <th>seed</th>\n",
       "      <th>dim</th>\n",
       "      <th>max_step</th>\n",
       "      <th>warmup_steps</th>\n",
       "      <th>Tag_location</th>\n",
       "      <th>n_layer</th>\n",
       "      <th>batch</th>\n",
       "      <th>copy</th>\n",
       "      <th>lr</th>\n",
       "      <th>dropout</th>\n",
       "      <th>acc</th>\n",
       "      <th>f1</th>\n",
       "      <th>bleu</th>\n",
       "      <th>char_acc</th>\n",
       "    </tr>\n",
       "  </thead>\n",
       "  <tbody>\n",
       "    <tr>\n",
       "      <th>0</th>\n",
       "      <td>ame</td>\n",
       "      <td>0.0</td>\n",
       "      <td>128.0</td>\n",
       "      <td>2000.0</td>\n",
       "      <td>1000.0</td>\n",
       "      <td>prepend</td>\n",
       "      <td>4.0</td>\n",
       "      <td>20.0</td>\n",
       "      <td>True</td>\n",
       "      <td>1.0</td>\n",
       "      <td>0.099976</td>\n",
       "      <td>0.817871</td>\n",
       "      <td>0.982910</td>\n",
       "      <td>0.930176</td>\n",
       "      <td>0.918457</td>\n",
       "    </tr>\n",
       "    <tr>\n",
       "      <th>1</th>\n",
       "      <td>ame</td>\n",
       "      <td>0.0</td>\n",
       "      <td>128.0</td>\n",
       "      <td>2000.0</td>\n",
       "      <td>1000.0</td>\n",
       "      <td>prepend</td>\n",
       "      <td>6.0</td>\n",
       "      <td>20.0</td>\n",
       "      <td>True</td>\n",
       "      <td>1.0</td>\n",
       "      <td>0.099976</td>\n",
       "      <td>0.736816</td>\n",
       "      <td>0.973145</td>\n",
       "      <td>0.902344</td>\n",
       "      <td>0.873535</td>\n",
       "    </tr>\n",
       "    <tr>\n",
       "      <th>2</th>\n",
       "      <td>ame</td>\n",
       "      <td>0.0</td>\n",
       "      <td>128.0</td>\n",
       "      <td>2000.0</td>\n",
       "      <td>1000.0</td>\n",
       "      <td>prepend</td>\n",
       "      <td>12.0</td>\n",
       "      <td>20.0</td>\n",
       "      <td>True</td>\n",
       "      <td>1.0</td>\n",
       "      <td>0.099976</td>\n",
       "      <td>0.540527</td>\n",
       "      <td>0.946777</td>\n",
       "      <td>0.818848</td>\n",
       "      <td>0.827637</td>\n",
       "    </tr>\n",
       "    <tr>\n",
       "      <th>3</th>\n",
       "      <td>ame</td>\n",
       "      <td>0.0</td>\n",
       "      <td>128.0</td>\n",
       "      <td>2000.0</td>\n",
       "      <td>1000.0</td>\n",
       "      <td>prepend</td>\n",
       "      <td>4.0</td>\n",
       "      <td>20.0</td>\n",
       "      <td>True</td>\n",
       "      <td>1.0</td>\n",
       "      <td>0.300049</td>\n",
       "      <td>0.854492</td>\n",
       "      <td>0.986816</td>\n",
       "      <td>0.953125</td>\n",
       "      <td>0.932617</td>\n",
       "    </tr>\n",
       "    <tr>\n",
       "      <th>4</th>\n",
       "      <td>ame</td>\n",
       "      <td>0.0</td>\n",
       "      <td>128.0</td>\n",
       "      <td>2000.0</td>\n",
       "      <td>1000.0</td>\n",
       "      <td>prepend</td>\n",
       "      <td>6.0</td>\n",
       "      <td>20.0</td>\n",
       "      <td>True</td>\n",
       "      <td>1.0</td>\n",
       "      <td>0.300049</td>\n",
       "      <td>0.579590</td>\n",
       "      <td>0.958496</td>\n",
       "      <td>0.857910</td>\n",
       "      <td>0.842285</td>\n",
       "    </tr>\n",
       "  </tbody>\n",
       "</table>\n",
       "</div>"
      ],
      "text/plain": [
       "  language  seed    dim  max_step  warmup_steps Tag_location  n_layer  batch  \\\n",
       "0      ame   0.0  128.0    2000.0        1000.0      prepend      4.0   20.0   \n",
       "1      ame   0.0  128.0    2000.0        1000.0      prepend      6.0   20.0   \n",
       "2      ame   0.0  128.0    2000.0        1000.0      prepend     12.0   20.0   \n",
       "3      ame   0.0  128.0    2000.0        1000.0      prepend      4.0   20.0   \n",
       "4      ame   0.0  128.0    2000.0        1000.0      prepend      6.0   20.0   \n",
       "\n",
       "   copy   lr   dropout       acc        f1      bleu  char_acc  \n",
       "0  True  1.0  0.099976  0.817871  0.982910  0.930176  0.918457  \n",
       "1  True  1.0  0.099976  0.736816  0.973145  0.902344  0.873535  \n",
       "2  True  1.0  0.099976  0.540527  0.946777  0.818848  0.827637  \n",
       "3  True  1.0  0.300049  0.854492  0.986816  0.953125  0.932617  \n",
       "4  True  1.0  0.300049  0.579590  0.958496  0.857910  0.842285  "
      ]
     },
     "execution_count": 116,
     "metadata": {},
     "output_type": "execute_result"
    }
   ],
   "source": [
    "df.head()"
   ]
  },
  {
   "cell_type": "code",
   "execution_count": 133,
   "id": "0a7430f8-d176-4354-adab-7b4d8127b255",
   "metadata": {},
   "outputs": [],
   "source": [
    "plt.style.use(\"dark_background\")"
   ]
  },
  {
   "cell_type": "code",
   "execution_count": 144,
   "id": "a32e483a-26de-4a83-973c-dc0344657f12",
   "metadata": {},
   "outputs": [
    {
     "data": {
      "text/plain": [
       "<AxesSubplot:xlabel='n_layer', ylabel='acc'>"
      ]
     },
     "execution_count": 144,
     "metadata": {},
     "output_type": "execute_result"
    },
    {
     "data": {
      "image/png": "[encoded data removed]",
      "text/plain": [
       "<Figure size 432x288 with 1 Axes>"
      ]
     },
     "metadata": {},
     "output_type": "display_data"
    }
   ],
   "source": [
    "sns.scatterplot(x=\"n_layer\", y=\"acc\", data=df, hue='dim', palette='coolwarm_r')"
   ]
  },
  {
   "cell_type": "code",
   "execution_count": 148,
   "id": "2324e206-ace4-4909-bdc2-4bc085b70a8f",
   "metadata": {},
   "outputs": [
    {
     "data": {
      "text/plain": [
       "<AxesSubplot:xlabel='n_layer', ylabel='acc'>"
      ]
     },
     "execution_count": 148,
     "metadata": {},
     "output_type": "execute_result"
    },
    {
     "data": {
      "image/png": "[encoded data removed]",
      "text/plain": [
       "<Figure size 432x288 with 1 Axes>"
      ]
     },
     "metadata": {},
     "output_type": "display_data"
    }
   ],
   "source": [
    "sns.scatterplot(x=\"n_layer\", y=\"acc\", data=df, palette='coolwarm_r')"
   ]
  },
  {
   "cell_type": "code",
   "execution_count": 147,
   "id": "61cf0d72-173d-45da-933b-211432ceff48",
   "metadata": {},
   "outputs": [
    {
     "data": {
      "text/plain": [
       "<AxesSubplot:xlabel='dim', ylabel='acc'>"
      ]
     },
     "execution_count": 147,
     "metadata": {},
     "output_type": "execute_result"
    },
    {
     "data": {
      "image/png": "[encoded data removed]",
      "text/plain": [
       "<Figure size 432x288 with 1 Axes>"
      ]
     },
     "metadata": {},
     "output_type": "display_data"
    }
   ],
   "source": [
    "sns.scatterplot(x=\"dim\", y=\"acc\", data=df, palette='coolwarm_r')"
   ]
  },
  {
   "cell_type": "code",
   "execution_count": 150,
   "id": "2b7d2c0c-94f7-471c-88de-715168314a4c",
   "metadata": {},
   "outputs": [
    {
     "data": {
      "text/plain": [
       "<AxesSubplot:xlabel='acc', ylabel='Count'>"
      ]
     },
     "execution_count": 150,
     "metadata": {},
     "output_type": "execute_result"
    },
    {
     "data": {
      "image/png": "[encoded data removed]",
      "text/plain": [
       "<Figure size 432x288 with 1 Axes>"
      ]
     },
     "metadata": {},
     "output_type": "display_data"
    }
   ],
   "source": [
    "sns.histplot(df['acc'], kde=True, bins=15)"
   ]
  },
  {
   "cell_type": "code",
   "execution_count": 163,
   "id": "1b46277f-5b4b-47ee-b926-8dc654d76d99",
   "metadata": {},
   "outputs": [
    {
     "data": {
      "text/plain": [
       "<AxesSubplot:xlabel='dim', ylabel='acc'>"
      ]
     },
     "execution_count": 163,
     "metadata": {},
     "output_type": "execute_result"
    },
    {
     "data": {
      "image/png": "[encoded data removed]",
      "text/plain": [
       "<Figure size 432x288 with 1 Axes>"
      ]
     },
     "metadata": {},
     "output_type": "display_data"
    }
   ],
   "source": [
    "sns.barplot(x=\"dim\", y=\"acc\", data=df, palette=\"YlGnBu\")"
   ]
  },
  {
   "cell_type": "code",
   "execution_count": 164,
   "id": "0648e442-6d2a-45c4-b3c5-402ed1b33600",
   "metadata": {},
   "outputs": [
    {
     "data": {
      "text/plain": [
       "<AxesSubplot:xlabel='n_layer', ylabel='acc'>"
      ]
     },
     "execution_count": 164,
     "metadata": {},
     "output_type": "execute_result"
    },
    {
     "data": {
      "image/png": "[encoded data removed]",
      "text/plain": [
       "<Figure size 432x288 with 1 Axes>"
      ]
     },
     "metadata": {},
     "output_type": "display_data"
    }
   ],
   "source": [
    "sns.barplot(x=\"n_layer\", y=\"acc\", data=df, palette=\"YlGnBu\")"
   ]
  },
  {
   "cell_type": "code",
   "execution_count": 166,
   "id": "e2dddd6b-6ea8-41a2-b8b3-29cf5867d711",
   "metadata": {},
   "outputs": [
    {
     "data": {
      "text/plain": [
       "<seaborn.axisgrid.JointGrid at 0x7f62ef03d5c0>"
      ]
     },
     "execution_count": 166,
     "metadata": {},
     "output_type": "execute_result"
    },
    {
     "data": {
      "image/png": "[encoded data removed]",
      "text/plain": [
       "<Figure size 432x432 with 3 Axes>"
      ]
     },
     "metadata": {},
     "output_type": "display_data"
    }
   ],
   "source": [
    "sns.jointplot(x='n_layer', y=\"acc\", data=df, kind=\"reg\")"
   ]
  },
  {
   "cell_type": "code",
   "execution_count": null,
   "id": "8242d902-9efe-412b-9133-e042ed940a33",
   "metadata": {},
   "outputs": [],
   "source": []
  },
  {
   "cell_type": "code",
   "execution_count": 161,
   "id": "2ca52475-9759-47b2-a94b-59c7392c82c0",
   "metadata": {},
   "outputs": [
    {
     "name": "stdout",
     "output_type": "stream",
     "text": [
      "Max\n",
      "language             ame\n",
      "seed                 0.0\n",
      "dim                256.0\n",
      "max_step          2000.0\n",
      "warmup_steps      1000.0\n",
      "Tag_location     prepend\n",
      "n_layer              4.0\n",
      "batch               20.0\n",
      "copy                True\n",
      "lr                   1.0\n",
      "dropout         0.399902\n",
      "acc             0.868164\n",
      "f1              0.989746\n",
      "bleu            0.955566\n",
      "char_acc        0.933105\n",
      "Name: 15, dtype: object\n",
      "----------\n",
      "Min\n",
      "language             ame\n",
      "seed                 0.0\n",
      "dim                128.0\n",
      "max_step          2000.0\n",
      "warmup_steps      1000.0\n",
      "Tag_location     prepend\n",
      "n_layer             12.0\n",
      "batch               20.0\n",
      "copy                True\n",
      "lr                   1.0\n",
      "dropout         0.399902\n",
      "acc             0.022415\n",
      "f1              0.836426\n",
      "bleu            0.409912\n",
      "char_acc        0.350342\n",
      "Name: 8, dtype: object\n"
     ]
    }
   ],
   "source": [
    "print('Max')\n",
    "print(df.iloc[df['acc'].argmax()])\n",
    "print('-'*10)\n",
    "print('Min')\n",
    "print(df.iloc[df['acc'].argmin()])\n"
   ]
  },
  {
   "cell_type": "code",
   "execution_count": null,
   "id": "25884e69-1f0f-4ab6-b92c-6f56b30d6c5c",
   "metadata": {},
   "outputs": [],
   "source": []
  }
 ],
 "metadata": {
  "kernelspec": {
   "display_name": "Python 3 (ipykernel)",
   "language": "python",
   "name": "python3"
  },
  "language_info": {
   "codemirror_mode": {
    "name": "ipython",
    "version": 3
   },
   "file_extension": ".py",
   "mimetype": "text/x-python",
   "name": "python",
   "nbconvert_exporter": "python",
   "pygments_lexer": "ipython3",
   "version": "3.7.3"
  }
 },
 "nbformat": 4,
 "nbformat_minor": 5
}
